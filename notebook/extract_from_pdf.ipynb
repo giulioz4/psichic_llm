{
 "cells": [
  {
   "cell_type": "code",
   "execution_count": 1,
   "metadata": {},
   "outputs": [],
   "source": [
    "import pdfplumber\n",
    "import os"
   ]
  },
  {
   "cell_type": "code",
   "execution_count": 2,
   "metadata": {},
   "outputs": [],
   "source": [
    "def extract_text_from_pdf(pdf_path: str) -> str:\n",
    "    \"\"\"\n",
    "    Estrae tutto il testo da un file PDF.\n",
    "    \n",
    "    :param pdf_path: Percorso del file PDF\n",
    "    :return: Contenuto testuale del PDF come stringa\n",
    "    \"\"\"\n",
    "    text = \"\"\n",
    "    with pdfplumber.open(pdf_path) as pdf:\n",
    "        for page in pdf.pages:\n",
    "            text += page.extract_text() + \"\\n\"\n",
    "    return text.strip()"
   ]
  },
  {
   "cell_type": "code",
   "execution_count": 3,
   "metadata": {},
   "outputs": [],
   "source": [
    "pdf_folder_path = \"/mnt/c/Users/Admin/Downloads/Consulti Scritti AI-20250309T140939Z-001/Consulti Scritti AI\""
   ]
  },
  {
   "cell_type": "code",
   "execution_count": 4,
   "metadata": {},
   "outputs": [],
   "source": [
    "for ind,pdf in enumerate(os.listdir(pdf_folder_path)) :\n",
    "    \n",
    "    pdf_path = os.path.join(pdf_folder_path, pdf)\n",
    "\n",
    "    text_pdf =  extract_text_from_pdf(pdf_path=pdf_path)\n",
    "\n",
    "    file = open(\"../txts/\"+str(ind)+\"MKT.txt\", \"w\")\n",
    "    file.write(text_pdf)\n",
    "    file.close()\n"
   ]
  }
 ],
 "metadata": {
  "kernelspec": {
   "display_name": "Python 3",
   "language": "python",
   "name": "python3"
  },
  "language_info": {
   "codemirror_mode": {
    "name": "ipython",
    "version": 3
   },
   "file_extension": ".py",
   "mimetype": "text/x-python",
   "name": "python",
   "nbconvert_exporter": "python",
   "pygments_lexer": "ipython3",
   "version": "3.10.12"
  }
 },
 "nbformat": 4,
 "nbformat_minor": 2
}
